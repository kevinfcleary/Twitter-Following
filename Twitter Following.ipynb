{
 "cells": [
  {
   "cell_type": "markdown",
   "metadata": {},
   "source": [
    "# Twitter Following"
   ]
  },
  {
   "cell_type": "markdown",
   "metadata": {},
   "source": [
    "The purpose of this notebook is to allow you to extract information about the people a single Twitter user follows. In this example we extract followers, following, name, and description."
   ]
  },
  {
   "cell_type": "code",
   "execution_count": 1,
   "metadata": {},
   "outputs": [],
   "source": [
    "from __future__ import unicode_literals\n",
    "import time\n",
    "import tweepy\n",
    "\n",
    "ckey='your credentials here'\n",
    "c_secret='your credentials here'\n",
    "atoken='your credentials here'\n",
    "atokensecret='your credentials here'\n",
    "auth = tweepy.OAuthHandler(ckey, c_secret)\n",
    "auth.set_access_token(atoken, atokensecret)\n",
    "\n",
    "\n",
    "#This allows access to the free Twitter API through Tweepy. Tweepy now will automatically sleep, and notify\n",
    "#you when it is sleeping by setting the two rate limit arguments to True.\n",
    "api = tweepy.API(auth,wait_on_rate_limit=True,wait_on_rate_limit_notify=True)"
   ]
  },
  {
   "cell_type": "raw",
   "metadata": {},
   "source": [
    "First we want to extract a list of Twitter ids of the accounts that they follow from a single Twitter handle."
   ]
  },
  {
   "cell_type": "code",
   "execution_count": null,
   "metadata": {},
   "outputs": [],
   "source": [
    "#This creates an empty list, and creates a Tweepy cursor which pulls Twitter IDs and places them in the empty list.\n",
    "ids = []\n",
    "for page in tweepy.Cursor(api.friends_ids, screen_name=\"Insert_Handle\").pages():\n",
    "    ids.extend(page)\n",
    "    time.sleep(60)\n",
    "#print(ids)"
   ]
  },
  {
   "cell_type": "code",
   "execution_count": null,
   "metadata": {},
   "outputs": [],
   "source": [
    "#This creates four empty lists, and performs API calls on each to extract the relevant information.\n",
    "#Due to the wait limit for ~4k followers this takes about 4 hours to run.\n",
    "names=[]\n",
    "followers=[]\n",
    "following=[]\n",
    "description=[]\n",
    "for x in ids:\n",
    "    names.append(api.get_user(x).screen_name)\n",
    "    followers.append(api.get_user(x).followers_count)\n",
    "    following.append(api.get_user(x).friends_count)\n",
    "    description.append(api.get_user(x).description)"
   ]
  },
  {
   "cell_type": "code",
   "execution_count": 3,
   "metadata": {},
   "outputs": [],
   "source": [
    "import pandas as pd"
   ]
  },
  {
   "cell_type": "code",
   "execution_count": null,
   "metadata": {},
   "outputs": [],
   "source": [
    "#This creates a dataframe from the lists above, and makes a copy if you want the untouched data.\n",
    "df = pd.DataFrame(columns=['names','followers','following','description'])\n",
    "d = {'Name':names,'Followers':followers, 'Following':following, 'Description':description}\n",
    "df=pd.DataFrame(d)\n",
    "df1 = df.copy()"
   ]
  },
  {
   "cell_type": "code",
   "execution_count": null,
   "metadata": {},
   "outputs": [],
   "source": [
    "#This computes some kind of totally made up Klout score, which is just the ratio of Followers to Following.\n",
    "#The dataframe is then sorted by Klout and Follower count. Then Klout is dropped, because it's totally useless.\n",
    "df1['Klout'] = df1['Followers']/df1['Following']\n",
    "df1 = df1.sort_values(by=['Klout','Followers'], ascending=False)\n",
    "df1 =df1.set_index('Name')\n",
    "df1 = df1.drop(['Klout'],axis=1)"
   ]
  },
  {
   "cell_type": "code",
   "execution_count": null,
   "metadata": {},
   "outputs": [],
   "source": [
    "#This exports the sorted list into an excel file for easy consumption.\n",
    "writer = pd.ExcelWriter('Handle_Name_Followers.xlsx')\n",
    "df1.to_excel(writer,'Handle_Name')\n",
    "writer.save()"
   ]
  }
 ],
 "metadata": {
  "kernelspec": {
   "display_name": "Python 3",
   "language": "python",
   "name": "python3"
  },
  "language_info": {
   "codemirror_mode": {
    "name": "ipython",
    "version": 3
   },
   "file_extension": ".py",
   "mimetype": "text/x-python",
   "name": "python",
   "nbconvert_exporter": "python",
   "pygments_lexer": "ipython3",
   "version": "3.6.4"
  }
 },
 "nbformat": 4,
 "nbformat_minor": 2
}
