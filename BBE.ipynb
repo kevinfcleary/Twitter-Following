{
 "cells": [
  {
   "cell_type": "code",
   "execution_count": 1,
   "metadata": {},
   "outputs": [],
   "source": [
    "from __future__ import unicode_literals\n",
    "import time\n",
    "import tweepy\n",
    "import os\n",
    "import os.path\n",
    "import pandas as pd\n",
    "import csv\n",
    "\n",
    "ckey='ruFHMzXN6rimxkKzd9FtwD4QJ'\n",
    "c_secret='4YaYRcKp7U0mXAeUXAQMd8kRjbSCPpSKTatPK7hZFIquJ7hP01'\n",
    "atoken='983706800309653504-056QBrRGtjrRIDdy6iYk3d5XdePB4eL'\n",
    "atokensecret='13ra5wBqqHCDQfsfD8NqsyYmbmgeXkiOT6eZThs3eK0mh'\n",
    "auth = tweepy.OAuthHandler(ckey, c_secret)\n",
    "auth.set_access_token(atoken, atokensecret)\n",
    "\n",
    "api = tweepy.API(auth,wait_on_rate_limit=True,wait_on_rate_limit_notify=True)"
   ]
  },
  {
   "cell_type": "code",
   "execution_count": 41,
   "metadata": {},
   "outputs": [],
   "source": [
    "def find_followers(twit_handle):\n",
    "    ids = []\n",
    "    fname = twit_handle + '.csv'\n",
    "    if os.path.isfile(fname):\n",
    "        print(\"This file exists\")\n",
    "        with open(fname) as f:\n",
    "            reader = csv.reader(f)\n",
    "            l = list(reader)\n",
    "        ids = [item for sublist in l for item in sublist]\n",
    "    else:\n",
    "        for page in tweepy.Cursor(api.friends_ids, screen_name=twit_handle).pages():\n",
    "            ids.extend(page)\n",
    "            time.sleep(60)\n",
    "        df = pd.DataFrame(ids)\n",
    "        df.to_csv(fname, sep=',', header=None, index=None)\n",
    "    return ids"
   ]
  },
  {
   "cell_type": "code",
   "execution_count": 45,
   "metadata": {},
   "outputs": [
    {
     "name": "stdout",
     "output_type": "stream",
     "text": [
      "This file exists\n"
     ]
    }
   ],
   "source": [
    "follow_list = find_followers(\"Kev_Ten_Twit\")"
   ]
  },
  {
   "cell_type": "code",
   "execution_count": null,
   "metadata": {},
   "outputs": [],
   "source": []
  },
  {
   "cell_type": "code",
   "execution_count": null,
   "metadata": {},
   "outputs": [],
   "source": []
  },
  {
   "cell_type": "code",
   "execution_count": null,
   "metadata": {},
   "outputs": [],
   "source": []
  },
  {
   "cell_type": "code",
   "execution_count": null,
   "metadata": {},
   "outputs": [],
   "source": []
  },
  {
   "cell_type": "code",
   "execution_count": null,
   "metadata": {},
   "outputs": [],
   "source": []
  },
  {
   "cell_type": "code",
   "execution_count": null,
   "metadata": {},
   "outputs": [],
   "source": []
  },
  {
   "cell_type": "code",
   "execution_count": null,
   "metadata": {},
   "outputs": [],
   "source": []
  },
  {
   "cell_type": "code",
   "execution_count": null,
   "metadata": {},
   "outputs": [],
   "source": []
  },
  {
   "cell_type": "code",
   "execution_count": null,
   "metadata": {},
   "outputs": [],
   "source": []
  }
 ],
 "metadata": {
  "kernelspec": {
   "display_name": "Python 3",
   "language": "python",
   "name": "python3"
  },
  "language_info": {
   "codemirror_mode": {
    "name": "ipython",
    "version": 3
   },
   "file_extension": ".py",
   "mimetype": "text/x-python",
   "name": "python",
   "nbconvert_exporter": "python",
   "pygments_lexer": "ipython3",
   "version": "3.6.4"
  }
 },
 "nbformat": 4,
 "nbformat_minor": 2
}
